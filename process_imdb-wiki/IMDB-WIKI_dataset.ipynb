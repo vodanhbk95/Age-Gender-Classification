{
 "cells": [
  {
   "cell_type": "code",
   "execution_count": null,
   "metadata": {},
   "outputs": [],
   "source": [
    "import numpy as np\n",
    "from scipy.io import loadmat\n",
    "import pandas as pd\n",
    "import datetime as date\n",
    "from dateutil.relativedelta import relativedelta"
   ]
  },
  {
   "cell_type": "code",
   "execution_count": null,
   "metadata": {},
   "outputs": [],
   "source": [
    "cols = ['path', 'age', 'gender']"
   ]
  },
  {
   "cell_type": "code",
   "execution_count": null,
   "metadata": {},
   "outputs": [],
   "source": [
    "wiki_mat = '/data/wiki_crop/wiki.mat'\n",
    "imdb_mat = '/data/imdb_crop/imdb.mat'"
   ]
  },
  {
   "cell_type": "code",
   "execution_count": null,
   "metadata": {},
   "outputs": [],
   "source": [
    "wiki_data = loadmat(wiki_mat)\n",
    "imdb_data = loadmat(imdb_mat)"
   ]
  },
  {
   "cell_type": "code",
   "execution_count": null,
   "metadata": {},
   "outputs": [],
   "source": [
    "wiki = wiki_data['wiki']\n",
    "imdb = imdb_data['imdb']"
   ]
  },
  {
   "cell_type": "markdown",
   "metadata": {},
   "source": [
    "# Process wiki dataset"
   ]
  },
  {
   "cell_type": "code",
   "execution_count": null,
   "metadata": {},
   "outputs": [],
   "source": [
    "count = 0\n",
    "wiki_path = []\n",
    "wiki_age = []\n",
    "wiki_genders = []\n",
    "\n",
    "for i in range(62328):\n",
    "    wiki_birth_year = int(wiki[0][0][0][0][i]/365)\n",
    "    wiki_photo_taken = wiki[0][0][1][0][i]\n",
    "    wiki_full_path = wiki[0][0][2][0][i][0]\n",
    "    wiki_gender = wiki[0][0][3][0][i]\n",
    "    faceScore = wiki[0][0][6][0][i]\n",
    "    secFaceScore = wiki[0][0][7][0][i]\n",
    "    \n",
    "    faceScore = str(faceScore)\n",
    "    secFaceScore = str(secFaceScore)\n",
    "    age = wiki_photo_taken - wiki_birth_year \n",
    "    \n",
    "    if 'inf' not in faceScore:\n",
    "        if 'nan' in secFaceScore:\n",
    "            if age >= 0: \n",
    "                try:\n",
    "                    gender = int(wiki_gender)\n",
    "                    wiki_path.append('/data/wiki_crop/' + wiki_full_path)\n",
    "                    wiki_age.append(age)\n",
    "                    wiki_genders.append(gender)\n",
    "                    count += 1\n",
    "                except:\n",
    "                    print('Failed with gender')\n",
    "                    print(wiki_full_path)\n",
    "                    continue\n",
    "            \n",
    "            \n",
    "print(count)"
   ]
  },
  {
   "cell_type": "markdown",
   "metadata": {},
   "source": [
    "# Process Imdb dataset"
   ]
  },
  {
   "cell_type": "code",
   "execution_count": null,
   "metadata": {},
   "outputs": [],
   "source": [
    "count = 0\n",
    "imdb_path = []\n",
    "imdb_age = []\n",
    "imdb_genders = []\n",
    "\n",
    "for i in range(460723):\n",
    "    imdb_birth_year = int(imdb[0][0][0][0][i]/365)\n",
    "    imdb_photo_taken = imdb[0][0][1][0][i]\n",
    "    imdb_full_path = imdb[0][0][2][0][i][0]\n",
    "    imdb_gender = imdb[0][0][3][0][i]\n",
    "    faceScore = imdb[0][0][6][0][i]\n",
    "    secFaceScore = imdb[0][0][7][0][i] \n",
    "    \n",
    "    faceScore = str(faceScore)\n",
    "    secFaceScore = str(secFaceScore)\n",
    "    age = imdb_photo_taken - imdb_birth_year\n",
    "    \n",
    "    if 'inf' not in faceScore:\n",
    "        if 'nan' in secFaceScore:\n",
    "            if age >= 0: \n",
    "                try:\n",
    "                    gender = int(imdb_gender)\n",
    "                    imdb_path.append('/data/imdb_crop/' + imdb_full_path)\n",
    "                    imdb_age.append(age)\n",
    "                    imdb_genders.append(gender)\n",
    "                    count += 1\n",
    "                except:\n",
    "                    print('Failed with gender')\n",
    "                    print(imdb_full_path)\n",
    "                    continue\n",
    "print(count)"
   ]
  },
  {
   "cell_type": "code",
   "execution_count": null,
   "metadata": {},
   "outputs": [],
   "source": [
    "final_imdb = np.vstack((imdb_path, imdb_age, imdb_genders)).T\n",
    "final_wiki = np.vstack((wiki_path, wiki_age, wiki_genders)).T"
   ]
  },
  {
   "cell_type": "code",
   "execution_count": null,
   "metadata": {},
   "outputs": [],
   "source": [
    "final_imdb_df = pd.DataFrame(final_imdb)\n",
    "final_wiki_df = pd.DataFrame(final_wiki)\n",
    "final_imdb_df.columns = cols\n",
    "final_wiki_df.columns = cols\n",
    "\n",
    "meta = pd.concat((final_imdb_df, final_wiki_df))"
   ]
  },
  {
   "cell_type": "code",
   "execution_count": null,
   "metadata": {},
   "outputs": [],
   "source": [
    "meta = meta.sample(frac=1)\n",
    "meta.to_csv('data.csv', index=False)"
   ]
  },
  {
   "cell_type": "code",
   "execution_count": null,
   "metadata": {},
   "outputs": [],
   "source": []
  },
  {
   "cell_type": "code",
   "execution_count": null,
   "metadata": {},
   "outputs": [],
   "source": []
  }
 ],
 "metadata": {
  "kernelspec": {
   "display_name": "Python 3",
   "language": "python",
   "name": "python3"
  },
  "language_info": {
   "codemirror_mode": {
    "name": "ipython",
    "version": 3
   },
   "file_extension": ".py",
   "mimetype": "text/x-python",
   "name": "python",
   "nbconvert_exporter": "python",
   "pygments_lexer": "ipython3",
   "version": "3.7.7"
  }
 },
 "nbformat": 4,
 "nbformat_minor": 2
}
