{
 "cells": [
  {
   "cell_type": "code",
   "execution_count": null,
   "metadata": {},
   "outputs": [],
   "source": [
    "import numpy as np\n",
    "from scipy.io import loadmat\n",
    "import pandas as pd\n",
    "import datetime as date\n",
    "from dateutil.relativedelta import relativedelta"
   ]
  },
  {
   "cell_type": "code",
   "execution_count": null,
   "metadata": {},
   "outputs": [],
   "source": [
    "cols = ['path', 'age', 'gender']"
   ]
  },
  {
   "cell_type": "code",
   "execution_count": null,
   "metadata": {},
   "outputs": [],
   "source": [
    "wiki_mat = './wiki_crop/wiki_crop/wiki.mat'\n",
    "imdb_mat = './wiki_crop/wiki_crop/imdb.mat'"
   ]
  },
  {
   "cell_type": "code",
   "execution_count": null,
   "metadata": {},
   "outputs": [],
   "source": [
    "wiki_data = loadmat(wiki_mat)\n",
    "imdb_data = loadmat(imdb_mat)"
   ]
  },
  {
   "cell_type": "code",
   "execution_count": null,
   "metadata": {},
   "outputs": [],
   "source": [
    "wiki = wiki_data['wiki']\n",
    "imdb = imdb_data['imdb']"
   ]
  },
  {
   "cell_type": "code",
   "execution_count": null,
   "metadata": {},
   "outputs": [],
   "source": [
    "len(wiki)"
   ]
  },
  {
   "cell_type": "code",
   "execution_count": null,
   "metadata": {},
   "outputs": [],
   "source": [
    "for i in range(62328):\n",
    "    wiki_birth_year = int(wiki[0][0][0][0][i]/365)\n",
    "    wiki_photo_taken = wiki[0][0][1][0]\n",
    "    wiki_full_path = wiki[0][0][2][0]\n",
    "    wiki_gender = wiki[0][0][3][0]\n",
    "    \n",
    "    age = wiki_photo_taken - wiki_birth_year "
   ]
  },
  {
   "cell_type": "code",
   "execution_count": null,
   "metadata": {},
   "outputs": [],
   "source": [
    "wiki_path = []\n",
    "for path in wiki_full_path:\n",
    "    wiki_path.append(path[0])"
   ]
  },
  {
   "cell_type": "code",
   "execution_count": null,
   "metadata": {},
   "outputs": [],
   "source": [
    "wiki_genders = []\n",
    "for gender in wiki_gender:\n",
    "    wiki_genders.append(gender)"
   ]
  },
  {
   "cell_type": "code",
   "execution_count": null,
   "metadata": {},
   "outputs": [],
   "source": [
    "wiki_gender"
   ]
  },
  {
   "cell_type": "code",
   "execution_count": null,
   "metadata": {},
   "outputs": [],
   "source": [
    "len(wiki_path), len(wiki_genders)"
   ]
  },
  {
   "cell_type": "code",
   "execution_count": null,
   "metadata": {},
   "outputs": [],
   "source": [
    "wiki_dob = []"
   ]
  },
  {
   "cell_type": "code",
   "execution_count": null,
   "metadata": {},
   "outputs": [],
   "source": [
    "for i in range(len(wiki_path)):\n",
    "    if i % 10000 == 0:\n",
    "        print(i)\n",
    "    bYear = int(wiki[0][0][0][0][i]/365)\n",
    "    taken = wiki[0][0][1][0][i]\n",
    "    wiki_path = wiki_full_path = wiki[0][0][2][0][i]\n",
    "    facescore = wiki[0][0][6][0][i]\n",
    "    secfacescore = wiki[0][0][7][0][i]\n",
    "    facescore = str(facescore)\n",
    "    secfacescore = str(secfacescore)\n",
    "    if 'n' not in facescore:\n",
    "        if 'a' in secfacescore:\n",
    "            print(wiki_path)"
   ]
  },
  {
   "cell_type": "code",
   "execution_count": null,
   "metadata": {},
   "outputs": [],
   "source": []
  }
 ],
 "metadata": {
  "kernelspec": {
   "display_name": "Python 3",
   "language": "python",
   "name": "python3"
  },
  "language_info": {
   "codemirror_mode": {
    "name": "ipython",
    "version": 3
   },
   "file_extension": ".py",
   "mimetype": "text/x-python",
   "name": "python",
   "nbconvert_exporter": "python",
   "pygments_lexer": "ipython3",
   "version": "3.7.4"
  }
 },
 "nbformat": 4,
 "nbformat_minor": 2
}
